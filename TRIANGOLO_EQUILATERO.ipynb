{
 "cells": [
  {
   "cell_type": "code",
   "execution_count": 7,
   "metadata": {},
   "outputs": [
    {
     "name": "stdout",
     "output_type": "stream",
     "text": [
      "      * \n",
      "     * * \n",
      "    * * * \n",
      "   * * * * \n",
      "  * * * * * \n",
      " * * * * * * \n"
     ]
    }
   ],
   "source": [
    "#ESEMPIO: lato n=6\n",
    "#   i=0                 *\n",
    "#   i=1                *_*\n",
    "#   i=2               *_*_*\n",
    "#   i=3              *_*_*_*\n",
    "#   i=4             *_*_*_*_*\n",
    "#   i=5            *_*_*_*_*_*\n",
    "\n",
    "#   i=0                 *\n",
    "#   i=1                * *\n",
    "#   i=2               * * *\n",
    "#   i=3              * * * *\n",
    "#   i=4             * * * * *\n",
    "#   i=5            * * * * * *\n",
    "\n",
    "n=int(input(\"inserisci la lunghezza del lato\"))\n",
    "for i in range (n):\n",
    "        print(\" \" * (n-i) + \"* \" * (i+1))"
   ]
  },
  {
   "cell_type": "code",
   "execution_count": 22,
   "metadata": {},
   "outputs": [
    {
     "name": "stdout",
     "output_type": "stream",
     "text": [
      "      ^\n",
      "     / \\\n",
      "    /   \\\n",
      "   /     \\\n",
      "  /       \\\n",
      " /_________\\\n"
     ]
    }
   ],
   "source": [
    "#ESEMPIO: lato n=6\n",
    "#   i=0             ^\n",
    "#   i=1            /_\\\n",
    "#   i=2           /___\\\n",
    "#   i=3          /_____\\\n",
    "#   i=4         /_______\\\n",
    "#   i=5        /_________\\\n",
    "\n",
    "#   i=0             ^\n",
    "#   i=1            / \\\n",
    "#   i=2           /   \\\n",
    "#   i=3          /     \\\n",
    "#   i=4         /       \\\n",
    "#   i=5        /_________\\\n",
    "\n",
    "n=int(input(\"inserisci la lunghezza del lato\"))\n",
    "for i in range (n):\n",
    "    if i==0:\n",
    "        print(\" \" * (n) + \"^\")\n",
    "    elif i==(n-1):\n",
    "        print(\" \" * (n-i) + \"/\" + \"_\" * ((2*i)-1) + \"\\\\\")\n",
    "    else:\n",
    "        print(\" \" * (n-i) + \"/\" + \" \" * ((2*i)-1) + \"\\\\\")"
   ]
  }
 ],
 "metadata": {
  "kernelspec": {
   "display_name": "Python 3",
   "language": "python",
   "name": "python3"
  },
  "language_info": {
   "codemirror_mode": {
    "name": "ipython",
    "version": 3
   },
   "file_extension": ".py",
   "mimetype": "text/x-python",
   "name": "python",
   "nbconvert_exporter": "python",
   "pygments_lexer": "ipython3",
   "version": "3.10.8"
  }
 },
 "nbformat": 4,
 "nbformat_minor": 2
}
