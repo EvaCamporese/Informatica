{
 "cells": [
  {
   "cell_type": "code",
   "execution_count": null,
   "metadata": {},
   "outputs": [],
   "source": [
    "# Si ipotizzi di voler organizzare un torneo di uno sport a due squadre (calcio, pallavolo, beach ...)\n",
    "# Si crei una funzione girone(squadre) che prenda in ingresso una lista di squadre e restituisca la lista di partite del girone\n",
    "# esempio: torneo([\"A\",\"B\",\"C\"])  ->  [(\"A\",\"B\"), (\"A\",\"C\"), (\"B\",\"C\")] \n",
    "import math\n",
    "n=int(input(\"quante squadre vuoi inserire?\"))       #inserisco quante squadre voglio far giocare\n",
    "squadre=[]                                          #creo una lista vuota che conterrà i nomi delle squadre\n",
    "torneo=[]                                           #creo una lista vuota che conterrà i nomi a coppie delle squadre, ovvero le partite\n",
    "def girone(squadre, torneo):\n",
    "    for i in range (n):                             #per ogni posizione della lista squadre mi inserisce il nome della squadra\n",
    "        s=input(\"inserisci i nomi delle squadre\")\n",
    "        squadre.append(s)\n",
    "    print(\"le squadre che partecipano al torneo sono: \", squadre)\n",
    "    coppie=int((math.factorial(n))/(math.factorial(2)*math.factorial(n-2)))        #n!/((2!*(n-2)!)\n",
    "    print (\"il numero di partite è: \", coppie)\n",
    "    for j in range (coppie):                        #per ogni posizione della lista torneo ho una coppia che ha come prima squadra quello in posizione zero\n",
    "        for k in range (j+1, n):                    #dopo ver fissato la prima squadra crea le coppie con le squadre successive\n",
    "            partita=(squadre[j], squadre[k])        \n",
    "            torneo.append(partita)\n",
    "    print(\"l'ordine con cui le squadre si sfindano nel torneo è: \", torneo)\n",
    "girone(squadre, torneo)"
   ]
  },
  {
   "cell_type": "code",
   "execution_count": null,
   "metadata": {},
   "outputs": [],
   "source": [
    "# Si ipotizzi di voler organizzare un torneo di uno sport a due squadre (calcio, pallavolo, beach ...)\n",
    "# Si crei una funzione girone(squadre) che prenda in ingresso una lista di squadre e restituisca la lista di partite del girone\n",
    "# esempio: torneo([\"A\",\"B\",\"C\"])  ->  [(\"A\",\"B\"), (\"A\",\"C\"), (\"B\",\"C\")] \n",
    "import math\n",
    "n=int(input(\"quante squadre vuoi inserire?\"))       #inserisco quante squadre voglio far giocare\n",
    "squadre=[]    \n",
    "for i in range (n):                             #per ogni posizione della lista squadre mi inserisce il nome della squadra\n",
    "    s=input(\"inserisci i nomi delle squadre\")\n",
    "    squadre.append(s)                                      #creo una lista vuota che conterrà i nomi delle squadre\n",
    "print(\"le squadre che partecipano al torneo sono: \", squadre)\n",
    "\n",
    "coppie=int((math.factorial(n))/(math.factorial(2)*math.factorial(n-2)))        #n!/((2!*(n-2)!)\n",
    "print (\"il numero di partite è: \", coppie)                                        \n",
    "\n",
    "def girone(squadre):\n",
    "    l=len(squadre)\n",
    "    torneo=[]                                   #creo una lista vuota che conterrà i nomi a coppie delle squadre, ovvero le partite\n",
    "    for j in range (l):                        #per ogni posizione della lista torneo ho una coppia che ha come prima squadra quello in posizione zero\n",
    "        for k in range (j+1, l):                    #dopo ver fissato la prima squadra crea le coppie con le squadre successive  \n",
    "            partita=squadre[j] + squadre[k]\n",
    "            torneo.append(partita)\n",
    "    return torneo\n",
    "\n",
    "girone(squadre)"
   ]
  }
 ],
 "metadata": {
  "kernelspec": {
   "display_name": "Python 3",
   "language": "python",
   "name": "python3"
  },
  "language_info": {
   "codemirror_mode": {
    "name": "ipython",
    "version": 3
   },
   "file_extension": ".py",
   "mimetype": "text/x-python",
   "name": "python",
   "nbconvert_exporter": "python",
   "pygments_lexer": "ipython3",
   "version": "3.10.8"
  }
 },
 "nbformat": 4,
 "nbformat_minor": 2
}
