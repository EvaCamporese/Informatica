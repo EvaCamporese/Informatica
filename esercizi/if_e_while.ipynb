{
  "cells": [
    {
      "cell_type": "markdown",
      "metadata": {
        "id": "HB3XbPDcSqe1"
      },
      "source": [
        "# Esercizi IF"
      ]
    },
    {
      "cell_type": "code",
      "execution_count": null,
      "metadata": {
        "id": "0U7L9A29RfeT"
      },
      "outputs": [],
      "source": [
        "# Es 4.1: Ottenere dall'utente un numero in input e scrivere a schermo \"Pari\" se il numero è pari, scrivere \"Dispari\" altrimenti\n",
        "x = int(input())   \n",
        "if x%2==0:\n",
        "    print(\"pari\")\n",
        "else:\n",
        "    print(\"dispari\")"
      ]
    },
    {
      "cell_type": "code",
      "execution_count": null,
      "metadata": {
        "id": "gE3RVr9ORuwP"
      },
      "outputs": [],
      "source": [
        "# Es 4.2: Ottenere dall'utente tre angoli caso siano i tre angoli di un triangolo scrivere a schermo \"È un triangolo\", altrimenti \"Non è un triangolo\"\n",
        "a=int(input())\n",
        "b=int(input())\n",
        "c=int(input())\n",
        "if a+b+c==180 and a>0 and b>0 and c>0:\n",
        "    print(\"è un triangolo\")\n",
        "else:\n",
        "    print(\"non è un triangolo\")"
      ]
    },
    {
      "cell_type": "code",
      "execution_count": null,
      "metadata": {
        "id": "r1A_DavcSKgi"
      },
      "outputs": [],
      "source": [
        "# Es 4.3: Ottenuti dall'utente tre angoli di un tringolo scrivere a schermo se i tre angoli descrivono un triangolo rettangolo o no\n",
        "a=int(input())\n",
        "b=int(input())\n",
        "c=int(input())\n",
        "if a+b+c==180 and a>0 and b>0 and c>0:   #verifico che sia un triangolo e che non ci siano due angoli da 90 e uno da 0\n",
        "    if a==90 or b==90 or c==90 :     #verifico che ci sia un angolo di 90 gradi\n",
        "        print(\"è un triangolo rettangolo\")\n",
        "    else:\n",
        "        print(\"non è un triangolo rettangolo\")\n",
        "else:\n",
        "    print(\"non è un triangolo\")"
      ]
    },
    {
      "cell_type": "code",
      "execution_count": null,
      "metadata": {
        "id": "iA9D4X_GSims"
      },
      "outputs": [],
      "source": [
        "# Es 4.4: Ottenuti dall'utente tre angoli di un tringolo scrivere a schermo se i tre angoli descrivono un triangolo equilatero o no\n",
        "a=int(input())\n",
        "b=int(input())\n",
        "c=int(input())\n",
        "if a+b+c==180 and a>0 and b>0 and c>0:\n",
        "    if a==60 and b==60 and c==60:\n",
        "        print(\"è un triangolo equilatero\")\n",
        "    else:\n",
        "        print(\"è un triangolo ma non è equilatero\")\n",
        "else:\n",
        "    print(\"non è un triangolo\")"
      ]
    },
    {
      "cell_type": "code",
      "execution_count": null,
      "metadata": {
        "id": "8q4gadoTSU7J"
      },
      "outputs": [],
      "source": [
        "# Es 4.5: Ottenuti dall'utente tre angoli di un tringolo scrivere a schermo se i tre angoli descrivono un triangolo isocele o no\n",
        "a=int(input())\n",
        "b=int(input())\n",
        "c=int(input())\n",
        "if a+b+c==180 and a>0 and b>0 and c>0:\n",
        "    if a==b or a==c or b==c:\n",
        "        print(\"è un triangolo isoscele\")\n",
        "        if a==b==c:\n",
        "            print(\"in particolare è un triangolo rettangolo\")\n",
        "    else:\n",
        "        print(\"è un triangolo ma non è isoscele\")\n",
        "else:\n",
        "    print(\"non è un triangolo\")"
      ]
    },
    {
      "cell_type": "code",
      "execution_count": 26,
      "metadata": {
        "id": "yVIE2kK3SYlq"
      },
      "outputs": [
        {
          "name": "stdout",
          "output_type": "stream",
          "text": [
            "è un triangolo isoscele\n"
          ]
        }
      ],
      "source": [
        "# Es 4.6: Ottenuti dall'utente tre angoli di un tringolo scrivere a schermo se i tre angoli descrivono un triangolo isocele, rettagolo, equilatero o scaleno\n",
        "a=int(input())\n",
        "b=int(input())\n",
        "c=int(input())\n",
        "if a+b+c==180 and a>0 and b>0 and c>0:\n",
        "    if a==b or a==c or b==c:\n",
        "        if a==b==c:\n",
        "            print(\"è un triangolo equilatero\")\n",
        "        print(\"è un triangolo isoscele\")\n",
        "    if a==90 or b==90 or c==90:\n",
        "        print(\"è un triangolo rettangolo\")\n",
        "    else:\n",
        "        if a!=b and b!=c and a!=c:\n",
        "            print(\"è un triangolo scaleno\")\n",
        "else:\n",
        "    print(\"non è un triangolo\")"
      ]
    },
    {
      "cell_type": "markdown",
      "metadata": {
        "id": "ef5snVxLqeQh"
      },
      "source": [
        "# Esercizi WHILE\n"
      ]
    },
    {
      "cell_type": "code",
      "execution_count": null,
      "metadata": {
        "id": "j61RqiHxqdmh"
      },
      "outputs": [],
      "source": [
        "# Es 4.7: Creare una funzione print_n(n,v) che stampi n volte il. contenuto di v\n",
        "def print_n(n,v):\n",
        "    "
      ]
    },
    {
      "cell_type": "code",
      "execution_count": null,
      "metadata": {
        "colab": {
          "base_uri": "https://localhost:8080/"
        },
        "id": "-6lAm-hfq9w9",
        "outputId": "399e82ba-3cfe-475f-f8df-0e156677ec75"
      },
      "outputs": [],
      "source": [
        "# Es 4.8: Inserito il numero n dire per quali numeri, compresi tra 1 e n, è divisibile.\n",
        "# Inserisco 10: stampo 1,2,5\n",
        "# Inserisco 7: stampo 1\n"
      ]
    },
    {
      "cell_type": "code",
      "execution_count": null,
      "metadata": {
        "colab": {
          "base_uri": "https://localhost:8080/"
        },
        "id": "GjC4LdR7rP-b",
        "outputId": "9f539b4d-c307-479a-da13-610a7e1cc46e"
      },
      "outputs": [],
      "source": [
        "# Es 4.9: Inserito il numero n dire se è primo o no\n"
      ]
    },
    {
      "cell_type": "code",
      "execution_count": null,
      "metadata": {
        "colab": {
          "base_uri": "https://localhost:8080/"
        },
        "id": "CxtWnOdHsTv4",
        "outputId": "5d874410-cb07-46a2-9c22-83d541b7a91a"
      },
      "outputs": [],
      "source": [
        "# Es 4.10: Creare la funzione moltiplica che restituisce il prodotto tra due numeri senza utilizzare *\n",
        "# 3*4 è uguale a 4+4+4\n"
      ]
    }
  ],
  "metadata": {
    "colab": {
      "provenance": []
    },
    "kernelspec": {
      "display_name": "Python 3",
      "name": "python3"
    },
    "language_info": {
      "codemirror_mode": {
        "name": "ipython",
        "version": 3
      },
      "file_extension": ".py",
      "mimetype": "text/x-python",
      "name": "python",
      "nbconvert_exporter": "python",
      "pygments_lexer": "ipython3",
      "version": "3.10.8"
    }
  },
  "nbformat": 4,
  "nbformat_minor": 0
}
