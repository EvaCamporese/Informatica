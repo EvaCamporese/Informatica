{
  "cells": [
    {
      "cell_type": "code",
      "execution_count": null,
      "metadata": {
        "id": "dEWxmkWc48Lz"
      },
      "outputs": [],
      "source": [
        "# Es 8.1 Creare il gioco dell'impiccato\n",
        "# Suggerimento: per controllare se la lettera 'a' è presente all'interno della parola 'casa' si può usare:\n",
        "#\n",
        "# if 'a' in 'casa':\n",
        "#   print('Presente')\n",
        "parola=input(\"inserisci una parola\")\n",
        "vite=5\n",
        "def impiccato(parola):\n",
        "    for i in range (len(parola)):\n",
        "        print(\"*\")\n",
        "#    while vite<=5:\n",
        "#        j=input(\"chiedi se una lettera è presente\")\n",
        "#            if j in parola:\n",
        "#            \n",
        "#    else:\n",
        "#        print(\"hai finito le vite\")\n",
        "impiccato(parola)"
      ]
    },
    {
      "cell_type": "code",
      "execution_count": null,
      "metadata": {},
      "outputs": [],
      "source": [
        "# Es 8.1 Creare il gioco dell'impiccato\n",
        "# Suggerimento: per controllare se la lettera 'a' è presente all'interno della parola 'casa' si può usare:\n",
        "# if 'a' in 'casa':\n",
        "#   print('Presente')\n"
      ]
    }
  ],
  "metadata": {
    "colab": {
      "provenance": []
    },
    "kernelspec": {
      "display_name": "Python 3",
      "name": "python3"
    },
    "language_info": {
      "name": "python"
    }
  },
  "nbformat": 4,
  "nbformat_minor": 0
}
