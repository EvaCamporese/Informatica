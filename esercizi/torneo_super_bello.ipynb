{
 "cells": [
  {
   "cell_type": "code",
   "execution_count": 21,
   "metadata": {},
   "outputs": [
    {
     "name": "stdout",
     "output_type": "stream",
     "text": [
      "le squadre che partecipano al torneo sono:  ['cane', 'gatto', 'topo', 'scarafaggio']\n"
     ]
    },
    {
     "ename": "IndexError",
     "evalue": "list index out of range",
     "output_type": "error",
     "traceback": [
      "\u001b[0;31m---------------------------------------------------------------------------\u001b[0m",
      "\u001b[0;31mIndexError\u001b[0m                                Traceback (most recent call last)",
      "\u001b[1;32m/workspaces/Informatica/esercizi/torneo_super_bello.ipynb Cella 1\u001b[0m line \u001b[0;36m1\n\u001b[1;32m     <a href='vscode-notebook-cell://codespaces%2Blaughing-lamp-q7qwgrggjjgjc9ggj/workspaces/Informatica/esercizi/torneo_super_bello.ipynb#W0sdnNjb2RlLXJlbW90ZQ%3D%3D?line=15'>16</a>\u001b[0m         torneo\u001b[39m.\u001b[39mappend(squadre[j\u001b[39m+\u001b[39m\u001b[39m1\u001b[39m])\n\u001b[1;32m     <a href='vscode-notebook-cell://codespaces%2Blaughing-lamp-q7qwgrggjjgjc9ggj/workspaces/Informatica/esercizi/torneo_super_bello.ipynb#W0sdnNjb2RlLXJlbW90ZQ%3D%3D?line=16'>17</a>\u001b[0m     \u001b[39mprint\u001b[39m(\u001b[39m\"\u001b[39m\u001b[39ml\u001b[39m\u001b[39m'\u001b[39m\u001b[39mordine con cui le squadre si sfindano nel torneo è: \u001b[39m\u001b[39m\"\u001b[39m, torneo)\n\u001b[0;32m---> <a href='vscode-notebook-cell://codespaces%2Blaughing-lamp-q7qwgrggjjgjc9ggj/workspaces/Informatica/esercizi/torneo_super_bello.ipynb#W0sdnNjb2RlLXJlbW90ZQ%3D%3D?line=17'>18</a>\u001b[0m girone(squadre, torneo)\n",
      "\u001b[1;32m/workspaces/Informatica/esercizi/torneo_super_bello.ipynb Cella 1\u001b[0m line \u001b[0;36m1\n\u001b[1;32m     <a href='vscode-notebook-cell://codespaces%2Blaughing-lamp-q7qwgrggjjgjc9ggj/workspaces/Informatica/esercizi/torneo_super_bello.ipynb#W0sdnNjb2RlLXJlbW90ZQ%3D%3D?line=13'>14</a>\u001b[0m \u001b[39mfor\u001b[39;00m j \u001b[39min\u001b[39;00m \u001b[39mrange\u001b[39m (coppie):\n\u001b[1;32m     <a href='vscode-notebook-cell://codespaces%2Blaughing-lamp-q7qwgrggjjgjc9ggj/workspaces/Informatica/esercizi/torneo_super_bello.ipynb#W0sdnNjb2RlLXJlbW90ZQ%3D%3D?line=14'>15</a>\u001b[0m     torneo\u001b[39m.\u001b[39mappend(squadre[j])\n\u001b[0;32m---> <a href='vscode-notebook-cell://codespaces%2Blaughing-lamp-q7qwgrggjjgjc9ggj/workspaces/Informatica/esercizi/torneo_super_bello.ipynb#W0sdnNjb2RlLXJlbW90ZQ%3D%3D?line=15'>16</a>\u001b[0m     torneo\u001b[39m.\u001b[39mappend(squadre[j\u001b[39m+\u001b[39;49m\u001b[39m1\u001b[39;49m])\n\u001b[1;32m     <a href='vscode-notebook-cell://codespaces%2Blaughing-lamp-q7qwgrggjjgjc9ggj/workspaces/Informatica/esercizi/torneo_super_bello.ipynb#W0sdnNjb2RlLXJlbW90ZQ%3D%3D?line=16'>17</a>\u001b[0m \u001b[39mprint\u001b[39m(\u001b[39m\"\u001b[39m\u001b[39ml\u001b[39m\u001b[39m'\u001b[39m\u001b[39mordine con cui le squadre si sfindano nel torneo è: \u001b[39m\u001b[39m\"\u001b[39m, torneo)\n",
      "\u001b[0;31mIndexError\u001b[0m: list index out of range"
     ]
    }
   ],
   "source": [
    "# Si ipotizzi di voler organizzare un torneo di uno sport a due squadre (calcio, pallavolo, beach ...)\n",
    "# Si crei una funzione girone(squadre) che prenda in ingresso una lista di squadre e restituisca la lista di partite del girone\n",
    "# esempio: torneo([\"A\",\"B\",\"C\"])  ->  [(\"A\",\"B\"), (\"A\",\"C\"), (\"B\",\"C\")] \n",
    "import math\n",
    "n=int(input(\"quante squadre vuoi inserire?\"))\n",
    "squadre=[]\n",
    "torneo=[]\n",
    "def girone(squadre, torneo):\n",
    "    for i in range (n):\n",
    "        s=input(\"inserisci i nomi delle squadre\")\n",
    "        squadre.append(s)\n",
    "    print(\"le squadre che partecipano al torneo sono: \", squadre)\n",
    "    coppie=int((math.factorial(n))/(math.factorial(2)*math.factorial(n-2)))        #n!/((2!*(n-2)!)\n",
    "    for j in range (coppie):\n",
    "        torneo.append(squadre[j])\n",
    "        torneo.append(squadre[j+1])\n",
    "    print(\"l'ordine con cui le squadre si sfindano nel torneo è: \", torneo)\n",
    "girone(squadre, torneo)"
   ]
  },
  {
   "cell_type": "code",
   "execution_count": null,
   "metadata": {},
   "outputs": [],
   "source": [
    "import math\n",
    "n=int(input(\"quante squadre vuoi inserire?\"))\n",
    "squadre=[]\n",
    "torneo=[]\n",
    "def girone(squadre, torneo):\n",
    "    for i in range (n):\n",
    "        s=input(\"inserisci i nomi delle squadre\")\n",
    "        squadre.append(s)\n",
    "    print(\"le squadre che partecipano al torneo sono: \", squadre)\n",
    "    coppie=int((math.factorial(n))/(math.factorial(2)*math.factorial(n-2)))        #n!/((2!*(n-2)!)\n",
    "    print (coppie)\n",
    "    for j in range (coppie):\n",
    "        torneo[j]=(squadre[j], squadre[j+1])\n",
    "    print(\"l'ordine con cui le squadre si sfindano nel torneo è: \", torneo)\n",
    "girone(squadre, torneo)"
   ]
  },
  {
   "cell_type": "code",
   "execution_count": 29,
   "metadata": {},
   "outputs": [
    {
     "name": "stdout",
     "output_type": "stream",
     "text": [
      "le squadre che partecipano al torneo sono:  ['cane', 'gatto', 'topo', 'insetto']\n",
      "il numero di partite è:  6\n",
      "l'ordine con cui le squadre si sfindano nel torneo è:  [('cane', 'gatto'), ('cane', 'topo'), ('cane', 'insetto'), ('gatto', 'topo'), ('gatto', 'insetto'), ('topo', 'insetto')]\n"
     ]
    }
   ],
   "source": [
    "# Si ipotizzi di voler organizzare un torneo di uno sport a due squadre (calcio, pallavolo, beach ...)\n",
    "# Si crei una funzione girone(squadre) che prenda in ingresso una lista di squadre e restituisca la lista di partite del girone\n",
    "# esempio: torneo([\"A\",\"B\",\"C\"])  ->  [(\"A\",\"B\"), (\"A\",\"C\"), (\"B\",\"C\")] \n",
    "import math\n",
    "n=int(input(\"quante squadre vuoi inserire?\"))\n",
    "squadre=[]\n",
    "torneo=[]\n",
    "def girone(squadre, torneo):\n",
    "    for i in range (n):\n",
    "        s=input(\"inserisci i nomi delle squadre\")\n",
    "        squadre.append(s)\n",
    "    print(\"le squadre che partecipano al torneo sono: \", squadre)\n",
    "    coppie=int((math.factorial(n))/(math.factorial(2)*math.factorial(n-2)))        #n!/((2!*(n-2)!)\n",
    "    print (\"il numero di partite è: \", coppie)\n",
    "    for j in range (coppie):\n",
    "        for k in range (j+1, n):\n",
    "            partita=(squadre[j], squadre[k])\n",
    "            torneo.append(partita)\n",
    "    print(\"l'ordine con cui le squadre si sfindano nel torneo è: \", torneo)\n",
    "girone(squadre, torneo)"
   ]
  },
  {
   "cell_type": "code",
   "execution_count": null,
   "metadata": {},
   "outputs": [],
   "source": [
    "import math\n",
    "n=int(input(\"quante squadre vuoi inserire?\"))\n",
    "squadre=[]\n",
    "for i in range (n):\n",
    "        s=input(\"inserisci i nomi delle squadre\")\n",
    "        squadre.append(s)\n",
    "print(\"le squadre che partecipano al torneo sono: \", squadre)\n",
    "torneo=[]\n",
    "coppie=int((math.factorial(n))/(math.factorial(2)*math.factorial(n-2)))\n",
    "for j in range (coppie):\n",
    "    torneo[j].append        #nella posizione j della lista torneo metto la squadra in posizione i e la squadra in posizione i+1\n",
    "    i+=1        \n",
    "print(\"l'ordine con cui le squadre si sfindano nel torneo è: \", torneo)"
   ]
  },
  {
   "cell_type": "code",
   "execution_count": null,
   "metadata": {},
   "outputs": [],
   "source": [
    "import math\n",
    "n=int(input(\"quante squadre vuoi inserire?\"))\n",
    "squadre=[]\n",
    "for i in range (n):\n",
    "    s=input(\"inserisci i nomi delle squadre\")\n",
    "    squadre.append(s)\n",
    "    torneo=[]\n",
    "    coppie=int((math.factorial(n))/(math.factorial(2)*math.factorial(n-2)))\n",
    "    for j in range (coppie):\n",
    "        torneo[j]=squadre[i]+squadre[i+1]\n",
    "        i+=1        \n",
    "    print(\"l'ordine con cui le squadre si sfindano nel torneo è: \", torneo)\n",
    "print(\"le squadre che partecipano al torneo sono: \", squadre)\n"
   ]
  },
  {
   "cell_type": "code",
   "execution_count": null,
   "metadata": {},
   "outputs": [],
   "source": [
    "# Si crei una funzione torneo(numero_gironi,squadre) che prenda \n",
    "# in ingresso il numero di gironi e una lista di squadre e \n",
    "# restituisca la lista di partite di ogni girone\n",
    "# esempio: torneo(2,[\"A\",\"B\",\"C\",\"AA\",\"BB\",\"CC\"])  ->  \n",
    "# [[(\"A\",\"B\"),     (\"A\",\"C\"),    (\"B\",\"C\")],  \n",
    "# [(\"AA\",\"BB\"),   (\"AA\",\"CC\"),  (\"BB\",\"CC\")]]\n",
    "n_gironi=int(input(\"inserisci il numero di gironi\"))\n",
    "n=int(input(\"quante squadre vuoi inserire?\"))       #inserisco quante squadre voglio far giocare\n",
    "squadre=[]    \n",
    "for i in range (n):                                 #per ogni posizione della lista squadre mi inserisce il nome della squadra\n",
    "        s=input(\"inserisci i nomi delle squadre\")\n",
    "        squadre.append(s)                                     #creo una lista vuota che conterrà i nomi delle squadre\n",
    "\n",
    "torneo=[]                                           #creo una lista vuota che conterrà i nomi a coppie delle squadre, ovvero le partite\n",
    "def girone(squadre, torneo):\n",
    "    \n",
    "    print(\"le squadre che partecipano al torneo sono: \", squadre)\n",
    "    coppie=int((math.factorial(n))/(math.factorial(2)*math.factorial(n-2)))        #n!/((2!*(n-2)!)\n",
    "    print (\"il numero di partite è: \", coppie)\n",
    "    for j in range (n):                        #per ogni posizione della lista torneo ho una coppia che ha come prima squadra quello in posizione zero\n",
    "        for k in range (j+1, n):                    #dopo ver fissato la prima squadra crea le coppie con le squadre successive  \n",
    "            torneo.append(squadre[j], squadre[k])\n",
    "    print(\"l'ordine con cui le squadre si sfindano nel torneo è: \", torneo)\n",
    "girone(squadre, torneo)"
   ]
  },
  {
   "cell_type": "code",
   "execution_count": 13,
   "metadata": {},
   "outputs": [
    {
     "name": "stdout",
     "output_type": "stream",
     "text": [
      "le squadre che partecipano al torneo sono:  ['A', 'B', 'C', 'AA', 'BB', 'CC']\n",
      "numero di partite per ogni girone:  3\n",
      "le partite che sono fatte per ogni girone sono:  []\n"
     ]
    }
   ],
   "source": [
    "# Si crei una funzione torneo(numero_gironi,squadre) che prenda \n",
    "# in ingresso il numero di gironi e una lista di squadre e \n",
    "# restituisca la lista di partite di ogni girone\n",
    "# esempio: torneo(2,[\"A\",\"B\",\"C\",\"AA\",\"BB\",\"CC\"])  ->  \n",
    "# [[(\"A\",\"B\"),     (\"A\",\"C\"),    (\"B\",\"C\")],  \n",
    "# [(\"AA\",\"BB\"),   (\"AA\",\"CC\"),  (\"BB\",\"CC\")]]\n",
    "\n",
    "n_squadre=int(input(\"inserisci quante squadre vuoi far giocare: \"))       #inserisco quante squadre voglio far giocare\n",
    "squadre=[]              #creo una lista inizialmente vuota \n",
    "for i in range (n_squadre):     #riempio la lista con i nomi delle squadre\n",
    "    s=input(\"inserisci il nome della squadra\")\n",
    "    squadre.append(s)\n",
    "print(\"le squadre che partecipano al torneo sono: \", squadre)\n",
    "\n",
    "n_gironi=int(input(\"inserisci quanti gironi vuoi fare: \"))                #i gironi sono composti da un tot di squadre che poi vengono divise in coppie\n",
    "\n",
    "def torneo(n_squadre, n_gironi):\n",
    "    partite_per_girone=[]\n",
    "    if n_squadre % n_gironi == 0:       #controllo che non ci siano squadre spaiate\n",
    "        l=n_squadre//n_gironi              #numero di squadre per girone\n",
    "        print(\"numero di partite per ogni girone: \", l)\n",
    "        for j in range (n_gironi):         #itero un girone alla volta\n",
    "            gironi=[]           #creo una lista inizialmente vuota\n",
    "        #    for k in range (l):            #in ogni girone accoppio le squadre fino al numero massimo possibile\n",
    "\n",
    "        #        for x in range (l+1, l):\n",
    "        #            partita=squadre[n_gironi]+squadre[k]\n",
    "        #            partite_per_girone.append(partita)\n",
    "        print(\"le partite che sono fatte per ogni girone sono: \", gironi)\n",
    "    else:\n",
    "        print(\"hai sbagliato qualcosa\")\n",
    "\n",
    "torneo(n_squadre, n_gironi)"
   ]
  },
  {
   "cell_type": "code",
   "execution_count": null,
   "metadata": {},
   "outputs": [],
   "source": [
    "# Si ipotizzi che successivamente a questi gironi venga svolta una fase ad eliminazione diretta.\n",
    "# Creare una funzione elimiazione() che prenda in ingresso la lista di squadre di prima fascia e\n",
    "# la lista di squadre di seconda fascia e generi le partite della fase ad eliminazione"
   ]
  },
  {
   "cell_type": "code",
   "execution_count": null,
   "metadata": {},
   "outputs": [],
   "source": []
  }
 ],
 "metadata": {
  "kernelspec": {
   "display_name": "Python 3",
   "language": "python",
   "name": "python3"
  },
  "language_info": {
   "codemirror_mode": {
    "name": "ipython",
    "version": 3
   },
   "file_extension": ".py",
   "mimetype": "text/x-python",
   "name": "python",
   "nbconvert_exporter": "python",
   "pygments_lexer": "ipython3",
   "version": "3.10.8"
  }
 },
 "nbformat": 4,
 "nbformat_minor": 2
}
