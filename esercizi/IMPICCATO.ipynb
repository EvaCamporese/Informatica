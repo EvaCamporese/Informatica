{
 "cells": [
  {
   "cell_type": "code",
   "execution_count": null,
   "metadata": {},
   "outputs": [],
   "source": [
    "# Es 8.1 Creare il gioco dell'impiccato\n",
    "# Suggerimento: per controllare se la lettera 'a' è presente all'interno della parola 'casa' si può usare:\n",
    "#\n",
    "# if 'a' in 'casa':\n",
    "#   print('Presente')\n",
    "p=input(\"inserisci una parola: \")     #leggo la parola\n",
    "l=len(p)                            #lunghezza parola\n",
    "parola=[]                           #creo una lista vuota delle stesse dimensioni della parola\n",
    "for j in p:   #j itera sulla stringa p                      #tratto la parola p inserita come una lista e in ogni posione della lista vuota inserisco la lettera jesima della parola\n",
    "    parola.append(j)\n",
    "\n",
    "parola_segreta=[]                   #creo una lista vuota delle stesse dimensioni della parola\n",
    "for i in range (l):                 #in ogni posizione della lista vuota inserisco un *\n",
    "    parola_segreta.append(\"*\")\n",
    "print(parola_segreta)\n",
    "\n",
    "vite=5\n",
    "while vite>0:                                #finchè ho ancora vite disponibili\n",
    "    lettera=input(\"inserisci una lettera: \")      #inserisco la lettera da controllare\n",
    "    for k in range (l):                     #controllo per ogni posizione della lista\n",
    "        if parola[k]==lettera:              #se, nella lista contenente le lettere della parola, la lettera nella posizione k è uguale alla lettera da verificare\n",
    "            parola_segreta[k]=lettera       #nella lista con contenente gli asterischi, nella posizione k sostituisce l'asterisco con la lettera\n",
    "    if '*' not in parola_segreta:\n",
    "        print(parola_segreta,\"HAI VINTO!\")\n",
    "        break\n",
    "    if lettera not in parola:\n",
    "        vite-=1\n",
    "    print(parola_segreta, \"hai perso una vita, te ne rimangono: \", vite)\n",
    "if vite==0:\n",
    "    print(\"Hai perso\")"
   ]
  }
 ],
 "metadata": {
  "language_info": {
   "name": "python"
  }
 },
 "nbformat": 4,
 "nbformat_minor": 2
}
