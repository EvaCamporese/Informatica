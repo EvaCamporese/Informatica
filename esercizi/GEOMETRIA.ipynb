{
  "cells": [
    {
      "cell_type": "markdown",
      "metadata": {
        "id": "HB3XbPDcSqe1"
      },
      "source": [
        "# Esercizi Geometrici"
      ]
    },
    {
      "cell_type": "markdown",
      "metadata": {
        "id": "LCcywn6v2KxD"
      },
      "source": [
        "In Python per stampare consecutivamente più parole senza creare una riga per ognuna bisogna usare il seguente codice:\n"
      ]
    },
    {
      "cell_type": "code",
      "execution_count": 4,
      "metadata": {
        "colab": {
          "base_uri": "https://localhost:8080/"
        },
        "id": "PHdyo8E42sza",
        "outputId": "fb51a75d-54ef-48c3-f6ad-342834d2738b"
      },
      "outputs": [
        {
          "name": "stdout",
          "output_type": "stream",
          "text": [
            "Parola 1 Parola 2.\n",
            "Parola 3\n"
          ]
        }
      ],
      "source": [
        "print(\"Parola 1\", end=\" \")\n",
        "print(\"Parola 2\", end=\".\\n\")\n",
        "print(\"Parola 3\")"
      ]
    },
    {
      "cell_type": "code",
      "execution_count": 10,
      "metadata": {
        "colab": {
          "base_uri": "https://localhost:8080/"
        },
        "id": "0U7L9A29RfeT",
        "outputId": "ccdd9b72-55df-486a-a68d-cfe73e90461d"
      },
      "outputs": [
        {
          "name": "stdout",
          "output_type": "stream",
          "text": [
            "* * * * \n",
            "* * * * \n",
            "* * * * \n",
            "* * * * \n"
          ]
        }
      ],
      "source": [
        "# Es 6.1: Scrivi la funzione quadrato(n) che stampi a schermo un quadrato di lato nxn formato utilizzando il carattere *\n",
        "#         Esempio:    3 ->  * * *       4 ->  * * * *\n",
        "#                           * * *             * * * *\n",
        "#                           * * *             * * * *\n",
        "#                                             * * * *\n",
        "n=int(input())\n",
        "def quadrato(n):\n",
        "    for i in range (n):     #in un intervallo n per ogni i ho una j     RIGHE\n",
        "        for j in range (n):     #utilizzo lo stesso intervallo perchè è un quadrato     COLONNE\n",
        "            print(\"*\", end=\" \")\n",
        "        print()\n",
        "quadrato(n)"
      ]
    },
    {
      "cell_type": "code",
      "execution_count": 15,
      "metadata": {
        "id": "gE3RVr9ORuwP"
      },
      "outputs": [
        {
          "name": "stdout",
          "output_type": "stream",
          "text": [
            "* * * * * * \n",
            "* * * * * * \n",
            "* * * * * * \n"
          ]
        }
      ],
      "source": [
        "# Es 6.2: Scrivi la funzione rettangolo(n) che stampi a schermo un rettangolo di lato nx2n formato utilizzando il carattere *\n",
        "#         Esempio:    3 ->  * * * * * *         4 ->  * * * * * * * *\n",
        "#                           * * * * * *               * * * * * * * *\n",
        "#                           * * * * * *               * * * * * * * *\n",
        "#                                                     * * * * * * * *\n",
        "n=int(input())\n",
        "def rettangolo(n):\n",
        "    for i in range (n):     #in un intervallo n per ogni i ho una j     RIGHE\n",
        "        for j in range (2*n):     #COLONNE\n",
        "            print(\"*\", end=\" \")\n",
        "        print()\n",
        "rettangolo(n)"
      ]
    },
    {
      "cell_type": "code",
      "execution_count": 12,
      "metadata": {
        "id": "r1A_DavcSKgi"
      },
      "outputs": [
        {
          "name": "stdout",
          "output_type": "stream",
          "text": [
            "* \n",
            "* * \n",
            "* * * \n",
            "* * * * \n"
          ]
        }
      ],
      "source": [
        "# Es 6.3: Scrivi la funzione triangolo_rettangolo(n) che stampi a schermo un triangolo di cateti n e n formato utilizzando il carattere *\n",
        "#         Esempio:    3 ->  *           4 ->  *\n",
        "#                           * *               * *\n",
        "#                           * * *             * * *\n",
        "#                                             * * * *\n",
        "n=int(input())\n",
        "def triangolo_rettangolo(n):\n",
        "    for i in range (1, n+1):     #in un intervallo n per ogni i ho una j     RIGHE\n",
        "        for j in range (i):     #ogni riga ha un numero di colonne uguale ad i che, dunque, parte da 1 e arriva a n+1 (così n è incluso)   COLONNE\n",
        "            print(\"*\", end=\" \")\n",
        "        print()\n",
        "triangolo_rettangolo(n)"
      ]
    },
    {
      "cell_type": "code",
      "execution_count": 24,
      "metadata": {
        "id": "iA9D4X_GSims"
      },
      "outputs": [
        {
          "name": "stdout",
          "output_type": "stream",
          "text": [
            "* * * * * * * * * * \n",
            "*                 * \n",
            "*                 * \n",
            "*                 * \n",
            "*                 * \n",
            "*                 * \n",
            "*                 * \n",
            "*                 * \n",
            "*                 * \n",
            "* * * * * * * * * * \n"
          ]
        }
      ],
      "source": [
        "# Es 6.4: Scrivi la funzione bordo_quadrato(n) che stampi a schermo un quadrato di lato nxn formato utilizzando il carattere * come contorno\n",
        "#         Esempio:    3 ->  * * *       4 ->  * * * *\n",
        "#                           *   *             *     *\n",
        "#                           * * *             *     *\n",
        "#                                             * * * *\n",
        "n=int(input())\n",
        "def bordo_quadrato(n):\n",
        "    for i in range (n):         #   RIGHE\n",
        "        for j in range (n):     #   COLONNE\n",
        "            if (i==0 or i==(n-1) or j==0 or j==(n-1)):      #se sono nella prima o nell'ultima riga e nella prima o nell'ultima colonna\n",
        "                print(\"*\", end=\" \")\n",
        "            else:\n",
        "                print(\" \", end=\" \")\n",
        "        print()\n",
        "bordo_quadrato(n)"
      ]
    },
    {
      "cell_type": "code",
      "execution_count": 1,
      "metadata": {
        "colab": {
          "base_uri": "https://localhost:8080/"
        },
        "id": "1vlDMqo_4uNc",
        "outputId": "de4cc1b2-7110-4ad6-b86c-d67c5756c074"
      },
      "outputs": [
        {
          "name": "stdout",
          "output_type": "stream",
          "text": [
            "/--\\\n",
            "|  |\n",
            "|  |\n",
            "\\--/\n"
          ]
        }
      ],
      "source": [
        "# Es 6.5: Scrivi la funzione bordo_quadrato_bello(n) che stampi a schermo un quadrato di lato nxn formato utilizzando iseguenti caratteri:\n",
        "#         Esempio:    3 ->  / - \\       4 ->  / - - \\\n",
        "#                           |   |             |     |\n",
        "#                           \\ - /             |     |\n",
        "#                                             \\ - - /\n",
        "# Per stampare \\ dovete utilizzare \"\\\\\" ovvero print(\"\\\\\")\n",
        "n=int(input())\n",
        "def bordo_quadrato_bello(n):\n",
        "    for i in range (n):\n",
        "        if i==0:\n",
        "            print(\"/\" + \"-\" * (n-2) + \"\\\\\")\n",
        "        elif i==n-1:\n",
        "            print(\"\\\\\" + \"-\" * (n-2) + \"/\")\n",
        "        else:\n",
        "            print(\"|\" + \" \" * (n-2) + \"|\")\n",
        "bordo_quadrato_bello(n)"
      ]
    },
    {
      "cell_type": "code",
      "execution_count": 6,
      "metadata": {
        "id": "2E9Hk9kkv5Mx"
      },
      "outputs": [
        {
          "name": "stdout",
          "output_type": "stream",
          "text": [
            "^\\\n",
            "| \\\n",
            "|  \\\n",
            "|___\\\n"
          ]
        }
      ],
      "source": [
        "# Es 6.6: Scrivi la funzione trianglo_bello(n) che stampi a schermo un triangolo di cateti n e n formato utilizzando iseguenti caratteri:\n",
        "#.   ^\\\n",
        "#    | \\\n",
        "#.   |  \\\n",
        "#.   |___\\\n",
        "n=int(input())\n",
        "def triangolo_bello(n):\n",
        "    for i in range (n):\n",
        "        if i==0:\n",
        "            print(\"^\" + \"\\\\\")\n",
        "        elif i==n-1:\n",
        "            print(\"|\" + \"_\" * (i) + \"\\\\\")\n",
        "        else:\n",
        "            print(\"|\" + \" \" * (i) + \"\\\\\")\n",
        "triangolo_bello(n)"
      ]
    }
  ],
  "metadata": {
    "colab": {
      "provenance": []
    },
    "kernelspec": {
      "display_name": "Python 3",
      "name": "python3"
    },
    "language_info": {
      "codemirror_mode": {
        "name": "ipython",
        "version": 3
      },
      "file_extension": ".py",
      "mimetype": "text/x-python",
      "name": "python",
      "nbconvert_exporter": "python",
      "pygments_lexer": "ipython3",
      "version": "3.10.8"
    }
  },
  "nbformat": 4,
  "nbformat_minor": 0
}
