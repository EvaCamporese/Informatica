{
 "cells": [
  {
   "cell_type": "code",
   "execution_count": 2,
   "metadata": {},
   "outputs": [
    {
     "ename": "IndexError",
     "evalue": "list assignment index out of range",
     "output_type": "error",
     "traceback": [
      "\u001b[0;31m---------------------------------------------------------------------------\u001b[0m",
      "\u001b[0;31mIndexError\u001b[0m                                Traceback (most recent call last)",
      "\u001b[1;32m/workspaces/Informatica/esercizi/p.ipynb Cella 1\u001b[0m line \u001b[0;36m3\n\u001b[1;32m     <a href='vscode-notebook-cell://codespaces%2Blaughing-lamp-q7qwgrggjjgjc9ggj/workspaces/Informatica/esercizi/p.ipynb#W0sdnNjb2RlLXJlbW90ZQ%3D%3D?line=30'>31</a>\u001b[0m parola_segreta\u001b[39m=\u001b[39m[]                   \u001b[39m#creo una lista vuota delle stesse dimensioni della parola\u001b[39;00m\n\u001b[1;32m     <a href='vscode-notebook-cell://codespaces%2Blaughing-lamp-q7qwgrggjjgjc9ggj/workspaces/Informatica/esercizi/p.ipynb#W0sdnNjb2RlLXJlbW90ZQ%3D%3D?line=31'>32</a>\u001b[0m \u001b[39mfor\u001b[39;00m i \u001b[39min\u001b[39;00m \u001b[39mrange\u001b[39m (\u001b[39mlen\u001b[39m(p)):                 \u001b[39m#in ogni posizione della lista vuota inserisco un *\u001b[39;00m\n\u001b[0;32m---> <a href='vscode-notebook-cell://codespaces%2Blaughing-lamp-q7qwgrggjjgjc9ggj/workspaces/Informatica/esercizi/p.ipynb#W0sdnNjb2RlLXJlbW90ZQ%3D%3D?line=32'>33</a>\u001b[0m     parola_segreta[i]\u001b[39m=\u001b[39m\u001b[39m\"\u001b[39m\u001b[39m*\u001b[39m\u001b[39m\"\u001b[39m\n\u001b[1;32m     <a href='vscode-notebook-cell://codespaces%2Blaughing-lamp-q7qwgrggjjgjc9ggj/workspaces/Informatica/esercizi/p.ipynb#W0sdnNjb2RlLXJlbW90ZQ%3D%3D?line=33'>34</a>\u001b[0m     \u001b[39mprint\u001b[39m(parola_segreta)\n\u001b[1;32m     <a href='vscode-notebook-cell://codespaces%2Blaughing-lamp-q7qwgrggjjgjc9ggj/workspaces/Informatica/esercizi/p.ipynb#W0sdnNjb2RlLXJlbW90ZQ%3D%3D?line=35'>36</a>\u001b[0m vite\u001b[39m=\u001b[39m\u001b[39m5\u001b[39m\n",
      "\u001b[0;31mIndexError\u001b[0m: list assignment index out of range"
     ]
    }
   ],
   "source": [
    "# Es 8.1 Creare il gioco dell'impiccato\n",
    "# Suggerimento: per controllare se la lettera 'a' è presente all'interno della parola 'casa' si può usare:\n",
    "#\n",
    "# if 'a' in 'casa':\n",
    "#   print('Presente')\n",
    "#parola=input(\"inserisci una parola\")\n",
    "#parola_segreta= \"*\" * len(parola)\n",
    "#    print(\"parola segreta:\")\n",
    "#    for i in range (len(parola)):\n",
    "#        print(\"*\", end=\" \")\n",
    "#vite=5\n",
    "#def impiccato(parola, parola_segreta):\n",
    "#    while vite<=5:\n",
    "#        lettera=input(\"inserisci una lettera\")\n",
    "#        if lettera in parola:\n",
    "#            for j in range (len(parola)):\n",
    "#                if lettera==:\n",
    "#                    print(lettera)\n",
    "#                else:\n",
    "#                    print(\"*\")\n",
    "#\n",
    "#    else:\n",
    "#        print(\"Hai finito le vite\")\n",
    "#impiccato(parola)\n",
    "p=input(\"inserisci una parola: \")     #leggo la parola\n",
    "l=len(p)                            #lunghezza parola\n",
    "parola=[]                           #creo una lista vuota delle stesse dimensioni della parola\n",
    "for j in p:   #j itera sulla stringa p                      #tratto la parola p inserita come una lista e in ogni posione della lista vuota inserisco la lettera jesima della parola\n",
    "    parola.append(j)\n",
    "\n",
    "parola_segreta=[]                   #creo una lista vuota delle stesse dimensioni della parola\n",
    "for i in range (l):                 #in ogni posizione della lista vuota inserisco un *\n",
    "    parola_segreta[i]=\"*\"\n",
    "    print(parola_segreta)\n",
    "\n",
    "vite=5\n",
    "while vite>0:                                #finchè ho ancora vite disponibili\n",
    "    lettera=input(\"inserisci una lettera: \")      #inserisco la lettera da controllare\n",
    "    presente =False\n",
    "    for k in range (l):                     #controllo per ogni posizione della lista\n",
    "        if parola[k]==lettera:              #se, nella lista contenente le lettere della parola, la lettera nella posizione k è uguale alla lettera da verificare\n",
    "            parola_segreta[k]=lettera       #nella lista con contenente gli asterischi, nella posizione k sostituisce l'asterisco con la lettera\n",
    "            presente=True\n",
    "    if '*' not in parola_segreta:\n",
    "        print(\"HAI VINTO!\")\n",
    "        break\n",
    "    if not presente:\n",
    "        vite-=1\n",
    "    print(parola_segreta, \"hai perso una vita, te ne rimangono: \", vite)\n",
    "if vite==0:\n",
    "    print(\"Hai perso\")"
   ]
  },
  {
   "cell_type": "code",
   "execution_count": 8,
   "metadata": {},
   "outputs": [
    {
     "name": "stdout",
     "output_type": "stream",
     "text": [
      "['*', '*', '*', '*']\n",
      "['c', '*', '*', '*'] hai perso una vita, te ne rimangono:  5\n",
      "['c', 'i', '*', '*'] hai perso una vita, te ne rimangono:  5\n",
      "['c', 'i', '*', '*'] hai perso una vita, te ne rimangono:  4\n",
      "['c', 'i', '*', '*'] hai perso una vita, te ne rimangono:  3\n",
      "['c', 'i', 'b', '*'] hai perso una vita, te ne rimangono:  3\n",
      "['c', 'i', 'b', 'o'] HAI VINTO!\n"
     ]
    }
   ],
   "source": [
    "# Es 8.1 Creare il gioco dell'impiccato\n",
    "# Suggerimento: per controllare se la lettera 'a' è presente all'interno della parola 'casa' si può usare:\n",
    "#\n",
    "# if 'a' in 'casa':\n",
    "#   print('Presente')\n",
    "p=input(\"inserisci una parola: \")     #leggo la parola\n",
    "l=len(p)                            #lunghezza parola\n",
    "parola=[]                           #creo una lista vuota delle stesse dimensioni della parola\n",
    "for j in p:   #j itera sulla stringa p                      #tratto la parola p inserita come una lista e in ogni posione della lista vuota inserisco la lettera jesima della parola\n",
    "    parola.append(j)\n",
    "\n",
    "parola_segreta=[]                   #creo una lista vuota delle stesse dimensioni della parola\n",
    "for i in range (l):                 #in ogni posizione della lista vuota inserisco un *\n",
    "    parola_segreta.append(\"*\")\n",
    "print(parola_segreta)\n",
    "\n",
    "vite=5\n",
    "while vite>0:                                #finchè ho ancora vite disponibili\n",
    "    lettera=input(\"inserisci una lettera: \")      #inserisco la lettera da controllare\n",
    "    for k in range (l):                     #controllo per ogni posizione della lista\n",
    "        if parola[k]==lettera:              #se, nella lista contenente le lettere della parola, la lettera nella posizione k è uguale alla lettera da verificare\n",
    "            parola_segreta[k]=lettera       #nella lista con contenente gli asterischi, nella posizione k sostituisce l'asterisco con la lettera\n",
    "    if '*' not in parola_segreta:\n",
    "        print(parola_segreta,\"HAI VINTO!\")\n",
    "        break\n",
    "    if lettera not in parola:\n",
    "        vite-=1\n",
    "    print(parola_segreta, \"hai perso una vita, te ne rimangono: \", vite)\n",
    "if vite==0:\n",
    "    print(\"Hai perso\")"
   ]
  }
 ],
 "metadata": {
  "kernelspec": {
   "display_name": "Python 3",
   "language": "python",
   "name": "python3"
  },
  "language_info": {
   "codemirror_mode": {
    "name": "ipython",
    "version": 3
   },
   "file_extension": ".py",
   "mimetype": "text/x-python",
   "name": "python",
   "nbconvert_exporter": "python",
   "pygments_lexer": "ipython3",
   "version": "3.10.8"
  }
 },
 "nbformat": 4,
 "nbformat_minor": 2
}
