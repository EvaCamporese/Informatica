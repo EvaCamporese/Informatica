{
 "cells": [
  {
   "cell_type": "code",
   "execution_count": null,
   "metadata": {},
   "outputs": [],
   "source": [
    "# Es 8.1 Creare il gioco dell'impiccato\n",
    "# Suggerimento: per controllare se la lettera 'a' è presente all'interno della parola 'casa' si può usare:\n",
    "#\n",
    "# if 'a' in 'casa':\n",
    "#   print('Presente')\n",
    "parola=input(\"inserisci una parola\")\n",
    "parola_segreta= \"*\" * len(parola)\n",
    "#    print(\"parola segreta:\")\n",
    "#    for i in range (len(parola)):\n",
    "#        print(\"*\", end=\" \")\n",
    "vite=5\n",
    "def impiccato(parola, parola_segreta):\n",
    "    while vite<=5:\n",
    "        lettera=input(\"inserisci una lettera\")\n",
    "        if lettera in parola:\n",
    "            for j in range (len(parola)):\n",
    "                if lettera==:\n",
    "                    print(lettera)\n",
    "                else:\n",
    "                    print(\"*\")\n",
    "\n",
    "    else:\n",
    "        print(\"Hai finito le vite\")\n",
    "impiccato(parola)"
   ]
  }
 ],
 "metadata": {
  "kernelspec": {
   "display_name": "Python 3",
   "language": "python",
   "name": "python3"
  },
  "language_info": {
   "codemirror_mode": {
    "name": "ipython",
    "version": 3
   },
   "file_extension": ".py",
   "mimetype": "text/x-python",
   "name": "python",
   "nbconvert_exporter": "python",
   "pygments_lexer": "ipython3",
   "version": "3.10.8"
  }
 },
 "nbformat": 4,
 "nbformat_minor": 2
}
