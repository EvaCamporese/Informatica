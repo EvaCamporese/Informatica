{
 "cells": [
  {
   "cell_type": "code",
   "execution_count": null,
   "metadata": {},
   "outputs": [],
   "source": [
    "# Es 8.1 Creare il gioco dell'impiccato\n",
    "# Suggerimento: per controllare se la lettera 'a' è presente all'interno della parola 'casa' si può usare:\n",
    "#\n",
    "# if 'a' in 'casa':\n",
    "#   print('Presente')\n",
    "#parola=input(\"inserisci una parola\")\n",
    "#parola_segreta= \"*\" * len(parola)\n",
    "#    print(\"parola segreta:\")\n",
    "#    for i in range (len(parola)):\n",
    "#        print(\"*\", end=\" \")\n",
    "#vite=5\n",
    "#def impiccato(parola, parola_segreta):\n",
    "#    while vite<=5:\n",
    "#        lettera=input(\"inserisci una lettera\")\n",
    "#        if lettera in parola:\n",
    "#            for j in range (len(parola)):\n",
    "#                if lettera==:\n",
    "#                    print(lettera)\n",
    "#                else:\n",
    "#                    print(\"*\")\n",
    "#\n",
    "#    else:\n",
    "#        print(\"Hai finito le vite\")\n",
    "#impiccato(parola)\n",
    "p=input(\"inserisci una parola\")\n",
    "l=len(p)\n",
    "parola=[]                           #creo una lista vuota delle stesse dimensioni della parola\n",
    "for j in l:                         #tratto la parola p inserita come una lista e in ogni posione della lista vuota inserisco la lettera jesima della parola\n",
    "    parola.append(j)\n",
    "\n",
    "parola_segreta=[]                   #creo una lista vuota delle stesse dimensioni della parola\n",
    "for i in range (l):                 #in ogni posione della lista vuota inserisco un *\n",
    "    parola_segreta[i]=\"*\"\n",
    "    print(parola_segreta)\n",
    "\n",
    "vite=5\n",
    "lettera=input(\"inserisci una lettera\")      #inserisco la lettera da controllare\n",
    "while vite<=5:                              #finchè ho ancora vite disponibili\n",
    "    for k in range (l):                     #controllo per ogni posizione della lista\n",
    "        if parola[k]==lettera:              #se, nella lista contenente le lettere della parola, la lettera nella posizione k è uguale alla lettera da verificare\n",
    "            parola_segreta[k]=lettera       #nella lista con contenente gli asterischi, nella posizione k sostituisce l'asterisco con la lettera"
   ]
  }
 ],
 "metadata": {
  "kernelspec": {
   "display_name": "Python 3",
   "language": "python",
   "name": "python3"
  },
  "language_info": {
   "codemirror_mode": {
    "name": "ipython",
    "version": 3
   },
   "file_extension": ".py",
   "mimetype": "text/x-python",
   "name": "python",
   "nbconvert_exporter": "python",
   "pygments_lexer": "ipython3",
   "version": "3.10.8"
  }
 },
 "nbformat": 4,
 "nbformat_minor": 2
}
